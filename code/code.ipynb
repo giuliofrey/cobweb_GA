{
 "cells": [
  {
   "cell_type": "markdown",
   "metadata": {},
   "source": [
    "# Genetic Algorithm Learning and the Cobweb Model"
   ]
  },
  {
   "cell_type": "markdown",
   "metadata": {},
   "source": [
    "The Cobweb model is a simple model of a market were:\n",
    "- Firms are price takers\n",
    "- Price is determined by total quantity of supply\n",
    "- Goods produced are identical across firms\n",
    "\n",
    "The Cobweb model can be sloved unsing a Genetic algoritm as showed by [Arifovic (1992)](https://www.uh.edu/hobby/eitm/_docs/past-lectures/2014-Lectures/Sunny-Wong/Genetic-Algorithm-Learning-and-the-Cobweb-Model.pdf). In this notebook we replicate a similar analysis.\n",
    "\n"
   ]
  },
  {
   "cell_type": "code",
   "execution_count": 18,
   "metadata": {
    "ExecuteTime": {
     "end_time": "2023-06-08T13:32:11.691899500Z",
     "start_time": "2023-06-08T13:32:11.315011700Z"
    }
   },
   "outputs": [],
   "source": [
    "import numpy as np\n",
    "import pandas as pd\n",
    "from copy import deepcopy\n",
    "from alive_progress import alive_bar\n",
    "from plotnine import *"
   ]
  },
  {
   "cell_type": "markdown",
   "source": [
    "## Individuals"
   ],
   "metadata": {
    "collapsed": false
   }
  },
  {
   "cell_type": "markdown",
   "source": [
    "Defining individuals. Each individual will have:\n",
    "- Genotype X (a string of binary digits)\n",
    "- Phenotype q (a real number)\n",
    "- Fitness function F"
   ],
   "metadata": {
    "collapsed": false
   }
  },
  {
   "cell_type": "code",
   "execution_count": 19,
   "metadata": {
    "ExecuteTime": {
     "end_time": "2023-06-08T13:32:11.716440300Z",
     "start_time": "2023-06-08T13:32:11.355537600Z"
    }
   },
   "outputs": [],
   "source": [
    "class Individual(object):\n",
    "\n",
    "    def __init__(self):\n",
    "\n",
    "        self.X = []\n",
    "        self.q=  0\n",
    "        self.F = 0"
   ]
  },
  {
   "cell_type": "markdown",
   "source": [
    "This function is used to decode the genotype and obtain the phenotype. In the example we use a 5-bit string and a threshold of 2."
   ],
   "metadata": {
    "collapsed": false
   }
  },
  {
   "cell_type": "code",
   "execution_count": 20,
   "metadata": {
    "ExecuteTime": {
     "end_time": "2023-06-08T13:32:11.745093300Z",
     "start_time": "2023-06-08T13:32:11.399399600Z"
    }
   },
   "outputs": [
    {
     "data": {
      "text/plain": "0.6875"
     },
     "execution_count": 20,
     "metadata": {},
     "output_type": "execute_result"
    }
   ],
   "source": [
    "def get_quantity(x, q_bar, n_bits):\n",
    "    q = 0\n",
    "    for bit in x:\n",
    "        q = (q << 1) | bit\n",
    "    return q*q_bar/2**n_bits\n",
    "get_quantity([0,1,0,1,1],2, 5)"
   ]
  },
  {
   "cell_type": "markdown",
   "source": [
    "## GA"
   ],
   "metadata": {
    "collapsed": false
   }
  },
  {
   "cell_type": "code",
   "execution_count": 21,
   "metadata": {
    "ExecuteTime": {
     "end_time": "2023-06-08T13:32:11.750467900Z",
     "start_time": "2023-06-08T13:32:11.439522100Z"
    }
   },
   "outputs": [],
   "source": [
    "class cobwebGA(object):\n",
    "\n",
    "    def __init__(self,\n",
    "                 n_individuals=10,\n",
    "                 n_generations=2,\n",
    "                 n_bits=3,\n",
    "                 q_bar=100,\n",
    "                 cr=0.90,\n",
    "                 mr=0.05,\n",
    "                 A=10,\n",
    "                 B=1,\n",
    "                 x=1,\n",
    "                 y=1):\n",
    "\n",
    "        self.__cr = cr\n",
    "        self.__mr = mr\n",
    "        self.__k  = None\n",
    "\n",
    "        self.__A= A\n",
    "        self.__B= B\n",
    "        self.__x=x\n",
    "        self.__y=y\n",
    "        self.__q_bar=q_bar\n",
    "\n",
    "        self.__n_individuals = n_individuals\n",
    "        self.__n_generations = n_generations\n",
    "        self.__n_bits = n_bits\n",
    "\n",
    "        self.__pop = []\n",
    "\n",
    "\n",
    "    # Fitness function (profit of single firm)\n",
    "    def __profits(self, P, q):\n",
    "        pi=P*q-self.__x*q-0.5*self.__y*self.__n_individuals*(q**2)\n",
    "        return pi\n",
    "\n",
    "    # Sampling strategy that allows for generating individuals with non-unique genotypes\n",
    "    def __sampling(self):\n",
    "\n",
    "        for _ in range(self.__n_individuals):\n",
    "\n",
    "            s   = Individual()\n",
    "            s.X = list(np.random.randint(0, 2, n_bits))\n",
    "\n",
    "            self.__pop.append(s)\n",
    "\n",
    "    #function to extract market prices\n",
    "    def __get_prices(self):\n",
    "        Q= np.sum([s.q for s in self.__pop])\n",
    "        P=self.__A-self.__B*Q\n",
    "        return P\n",
    "\n",
    "    #genotype-phenotype decoder (as described above)\n",
    "    def __get_quantity(self, x):\n",
    "        q = 0\n",
    "        for bit in x:\n",
    "            q = (q << 1) | bit\n",
    "        q=q*self.__q_bar/2**self.__n_bits\n",
    "        return q\n",
    "\n",
    "    # Tournament selection\n",
    "    def __tournament_selection(self):\n",
    "\n",
    "        # first random selection\n",
    "        selected = np.random.choice(self.__pop)\n",
    "\n",
    "        # random selection of the remaining k-1 individuals\n",
    "        for s in np.random.choice(self.__pop, self.__k-1):\n",
    "            # check if better (e.g. perform a tournament)\n",
    "            if s.F > selected.F:\n",
    "                selected = s\n",
    "        return selected\n",
    "\n",
    "\n",
    "    # One-point crossover of two parents to create two children\n",
    "    def __one_point_crossover(self, p1, p2):\n",
    "\n",
    "        # children are copies of parents by default\n",
    "        c1, c2 = deepcopy(p1), deepcopy(p2)\n",
    "\n",
    "        # check for recombination\n",
    "        if np.random.rand() < self.__cr:\n",
    "            # select a crossover point that is not on the end of the string\n",
    "            pt = np.random.randint(1, len(p1.X)-2)\n",
    "            # perform crossover\n",
    "            c1.X = p1.X[:pt] + p2.X[pt:]\n",
    "            c2.X = p2.X[:pt] + p1.X[pt:]\n",
    "\n",
    "        return c1, c2\n",
    "\n",
    "    #repair method return children only if they are better than parents, otherwise parents will replace children\n",
    "    def __repair(self, p1, p2, c1, c2, prev_price):\n",
    "        #quantities are computed for each offspring\n",
    "        c1.q=self.__get_quantity(c1.X)\n",
    "        c2.q=self.__get_quantity(c2.X)\n",
    "        #quantities are used to obtain profits with prices identical to previous generation\n",
    "        c1.F=self.__profits(prev_price, c1.q)\n",
    "        c2.F=self.__profits(prev_price, c2.q)\n",
    "        #extract the best two individuals inside a family\n",
    "        fam=[p1, p2, c1, c2]\n",
    "        fam.sort(key=lambda x: x.F, reverse=True)\n",
    "        c1=fam[0]\n",
    "        c2=fam[1]\n",
    "        return c1, c2\n",
    "\n",
    "    #function to obtain rational expectations quantity equilibrium (later graphed with red dashed line)\n",
    "    def __get_q_star(self):\n",
    "        q_star=(self.__A-self.__x)/(self.__B+self.__y)\n",
    "        return q_star\n",
    "\n",
    "    #function to obtain rational expectations prices equilibrium (later graphed with red dashed line)\n",
    "    def __get_p_star(self):\n",
    "        q_star=self.__get_q_star()\n",
    "        p_star=self.__A-self.__B*q_star\n",
    "        return p_star\n",
    "\n",
    "    # Integer mutation. The selected bit is replaced with another bit value\n",
    "    def __mutation(self, s):\n",
    "\n",
    "        for i in range(len(s.X)):\n",
    "            # check for a mutation\n",
    "            if np.random.rand() < self.__mr:\n",
    "                s.X[i] = 1-s.X[i]\n",
    "\n",
    "\n",
    "    def run(self, k=2, repair=False):\n",
    "\n",
    "        self.__selection = None\n",
    "        self.__k = k\n",
    "        self.__selection = self.__tournament_selection\n",
    "\n",
    "        #populaiton initialization\n",
    "\n",
    "        self.__sampling()\n",
    "\n",
    "        # keep track of prices, quantity and generation for the market\n",
    "        outputs = {\n",
    "            'prices': [],\n",
    "            'quantity': [],\n",
    "            'gen': []\n",
    "        }\n",
    "\n",
    "        # keep track of prices, quantity and generation for all the individuals\n",
    "        all_outputs = {\n",
    "            'prices': [],\n",
    "            'quantity': [],\n",
    "            'profits':[],\n",
    "            'gen': []\n",
    "        }\n",
    "\n",
    "        # enumerate generations\n",
    "        with alive_bar(self.__n_generations, force_tty=True) as bar:\n",
    "            for gen in range(self.__n_generations):\n",
    "\n",
    "                gen_q=0\n",
    "\n",
    "                # extract individuals quantity\n",
    "                for s in self.__pop:\n",
    "                    s.q = self.__get_quantity(s.X)\n",
    "                    all_outputs['quantity'].append(s.q)\n",
    "                    gen_q=s.q+gen_q\n",
    "\n",
    "                #extract price for generation\n",
    "                price=self.__get_prices()\n",
    "                #saving results of market price for interpretation\n",
    "                outputs['prices'].append(price)\n",
    "\n",
    "\n",
    "                # extract individuals profits given the generation price\n",
    "                for s in self.__pop:\n",
    "                    s.F = self.__profits(price, s.q)\n",
    "                    all_outputs['profits'].append(s.F)\n",
    "                    all_outputs['prices'].append(price)\n",
    "                    all_outputs['gen'].append(gen)\n",
    "\n",
    "                #saving results of market outputs an n of generation for interpretation\n",
    "                outputs['quantity'].append(gen_q)\n",
    "                outputs['gen'].append(gen)\n",
    "\n",
    "\n",
    "                # select parents\n",
    "                selected = [self.__selection() for _ in range(self.__n_individuals)]\n",
    "\n",
    "                # create the next populations\n",
    "                children = []\n",
    "\n",
    "                for i in range(0, self.__n_individuals, 2):\n",
    "\n",
    "                    # Get selected parents in pairs\n",
    "                    p1, p2 = selected[i], selected[i+1]\n",
    "\n",
    "                    # crossover\n",
    "                    c1, c2 = self.__one_point_crossover(p1, p2)\n",
    "\n",
    "                    # mutation\n",
    "                    self.__mutation(c1)\n",
    "                    self.__mutation(c2)\n",
    "\n",
    "                    #repair (if selected)\n",
    "                    if repair:\n",
    "                        c1, c2=self.__repair(p1, p2, c1, c2, price)\n",
    "\n",
    "                    # store for next generation\n",
    "                    children.append(c1)\n",
    "                    children.append(c2)\n",
    "\n",
    "                # replace population\n",
    "                self.__pop = children[:]\n",
    "                #counting for progress bar\n",
    "                bar()\n",
    "                outputs_df=pd.DataFrame.from_dict(outputs)\n",
    "                all_outputs_df=pd.DataFrame.from_dict(all_outputs)\n",
    "\n",
    "        return outputs_df, all_outputs_df\n",
    "\n",
    "    #graphs\n",
    "    def graphs(self, variable='prices'):\n",
    "        if variable in ['prices', 'quantity']:\n",
    "            star=0\n",
    "            if variable=='prices':\n",
    "                star=self.__get_p_star()\n",
    "            if variable=='quantity':\n",
    "                star=self.__get_q_star()\n",
    "            ggplt=(ggplot(outputs_df)\n",
    "                   + aes(x='gen', y=variable)\n",
    "                   + geom_line()\n",
    "                   + geom_hline(yintercept=star, linetype=\"dashed\", color = \"red\")\n",
    "                   + labs(x='Generation', y=variable.capitalize())\n",
    "                   + theme_classic()\n",
    "                   )\n",
    "            return ggplt\n",
    "\n",
    "        if variable=='SD':\n",
    "            ggplt=(ggplot(outputs_df)\n",
    "             + aes(x='quantity', y='prices', color='gen')\n",
    "             + geom_point()\n",
    "             + theme_classic()\n",
    "             + labs(x='Quantity', y='Price')\n",
    "             )\n",
    "            return ggplt\n",
    "\n",
    "        if variable=='SD_full':\n",
    "            ggplt=(ggplot(all_outputs_df)\n",
    "                   + aes(x='quantity', y='prices', color='gen')\n",
    "                   + geom_point()\n",
    "                   + theme_classic()\n",
    "                   + labs(x='Quantity', y='Price')\n",
    "                   )\n",
    "            return ggplt"
   ]
  },
  {
   "cell_type": "markdown",
   "source": [
    "## Results"
   ],
   "metadata": {
    "collapsed": false
   }
  },
  {
   "cell_type": "markdown",
   "source": [
    "Stable Case"
   ],
   "metadata": {
    "collapsed": false
   }
  },
  {
   "cell_type": "code",
   "execution_count": 22,
   "metadata": {
    "ExecuteTime": {
     "end_time": "2023-06-08T13:32:11.750467900Z",
     "start_time": "2023-06-08T13:32:11.582069500Z"
    }
   },
   "outputs": [],
   "source": [
    "n_generations = 100 #number of generations\n",
    "n_individuals = 100 #number of individuals\n",
    "\n",
    "n_bits = 13 #lenght of chromosome\n",
    "q_bar=5\n",
    "\n",
    "c_r = 0.9 #crossover rate\n",
    "m_r = 0.005 #mutation rate\n",
    "\n",
    "#demand parameters\n",
    "A=100\n",
    "B=0.02\n",
    "#cost function parameters\n",
    "x=3\n",
    "y=1"
   ]
  },
  {
   "cell_type": "markdown",
   "source": [
    "Checking if result correspond to rational expectations model"
   ],
   "metadata": {
    "collapsed": false
   }
  },
  {
   "cell_type": "code",
   "execution_count": 23,
   "outputs": [
    {
     "name": "stdout",
     "output_type": "stream",
     "text": [
      "Equilibrium prices and quantity are 0.9509803921568627 and 98.09803921568627\n"
     ]
    }
   ],
   "source": [
    "def get_q_star(A, B, x, y, n):\n",
    "    q_star=(A-x)/(n*(B+y))\n",
    "    return q_star\n",
    "\n",
    "def get_p_star(A, B, x, y):\n",
    "    p_star=A-B*((A-x)/((B+y)))\n",
    "    return p_star\n",
    "\n",
    "q_star=get_q_star(A=A, B=B, x=x, y=y, n=n_individuals)\n",
    "p_star=get_p_star(A=A, B=B, x=x, y=y)\n",
    "\n",
    "print('Equilibrium prices and quantity are',q_star,'and',p_star)"
   ],
   "metadata": {
    "collapsed": false,
    "ExecuteTime": {
     "end_time": "2023-06-08T13:32:11.750467900Z",
     "start_time": "2023-06-08T13:32:11.618389700Z"
    }
   }
  },
  {
   "cell_type": "code",
   "execution_count": 24,
   "metadata": {
    "ExecuteTime": {
     "end_time": "2023-06-08T13:32:30.458793200Z",
     "start_time": "2023-06-08T13:32:11.653470200Z"
    }
   },
   "outputs": [
    {
     "name": "stdout",
     "output_type": "stream",
     "text": [
      "|████████████████████████████████████████| 100/100 [100%] in 12.3s (8.11/s)     \n"
     ]
    },
    {
     "name": "stderr",
     "output_type": "stream",
     "text": [
      "C:\\Users\\iodio\\AppData\\Roaming\\Python\\Python310\\site-packages\\plotnine\\ggplot.py:587: PlotnineWarning: Saving 6.4 x 4.8 in image.\n",
      "C:\\Users\\iodio\\AppData\\Roaming\\Python\\Python310\\site-packages\\plotnine\\ggplot.py:588: PlotnineWarning: Filename: ../outputs/p_stable.png\n",
      "C:\\Users\\iodio\\AppData\\Roaming\\Python\\Python310\\site-packages\\plotnine\\ggplot.py:587: PlotnineWarning: Saving 6.4 x 4.8 in image.\n",
      "C:\\Users\\iodio\\AppData\\Roaming\\Python\\Python310\\site-packages\\plotnine\\ggplot.py:588: PlotnineWarning: Filename: ../outputs/q_stable.png\n",
      "C:\\Users\\iodio\\AppData\\Roaming\\Python\\Python310\\site-packages\\plotnine\\ggplot.py:587: PlotnineWarning: Saving 6.4 x 4.8 in image.\n",
      "C:\\Users\\iodio\\AppData\\Roaming\\Python\\Python310\\site-packages\\plotnine\\ggplot.py:588: PlotnineWarning: Filename: ../outputs/DS_stable.png\n"
     ]
    }
   ],
   "source": [
    "ga = cobwebGA(n_individuals=n_individuals, n_generations=n_generations, n_bits=n_bits, q_bar=q_bar, cr=c_r, mr=m_r, A=A ,B=B , x=x , y=y)\n",
    "outputs_df, all_outputs_df = ga.run(k=2, repair=True)\n",
    "\n",
    "ga.graphs(variable='prices').save(\"../outputs/p_stable.png\", dpi=600)\n",
    "ga.graphs(variable='quantity').save(\"../outputs/q_stable.png\", dpi=600)\n",
    "ga.graphs(variable='SD_full').save(\"../outputs/DS_stable.png\", dpi=600)"
   ]
  },
  {
   "cell_type": "markdown",
   "source": [
    "No repair mechanism enabled"
   ],
   "metadata": {
    "collapsed": false
   }
  },
  {
   "cell_type": "code",
   "execution_count": 25,
   "outputs": [
    {
     "name": "stdout",
     "output_type": "stream",
     "text": [
      "|████████████████████████████████████████| 100/100 [100%] in 11.1s (9.01/s)     \n"
     ]
    },
    {
     "name": "stderr",
     "output_type": "stream",
     "text": [
      "C:\\Users\\iodio\\AppData\\Roaming\\Python\\Python310\\site-packages\\plotnine\\ggplot.py:587: PlotnineWarning: Saving 6.4 x 4.8 in image.\n",
      "C:\\Users\\iodio\\AppData\\Roaming\\Python\\Python310\\site-packages\\plotnine\\ggplot.py:588: PlotnineWarning: Filename: ../outputs/p_stable_nr.png\n",
      "C:\\Users\\iodio\\AppData\\Roaming\\Python\\Python310\\site-packages\\plotnine\\ggplot.py:587: PlotnineWarning: Saving 6.4 x 4.8 in image.\n",
      "C:\\Users\\iodio\\AppData\\Roaming\\Python\\Python310\\site-packages\\plotnine\\ggplot.py:588: PlotnineWarning: Filename: ../outputs/q_stable_nr.png\n",
      "C:\\Users\\iodio\\AppData\\Roaming\\Python\\Python310\\site-packages\\plotnine\\ggplot.py:587: PlotnineWarning: Saving 6.4 x 4.8 in image.\n",
      "C:\\Users\\iodio\\AppData\\Roaming\\Python\\Python310\\site-packages\\plotnine\\ggplot.py:588: PlotnineWarning: Filename: ../outputs/DS_stable_nr.png\n"
     ]
    }
   ],
   "source": [
    "ga = cobwebGA(n_individuals=n_individuals, n_generations=n_generations, n_bits=n_bits, q_bar=q_bar, cr=c_r, mr=m_r, A=A ,B=B , x=x , y=y)\n",
    "outputs_df, all_outputs_df = ga.run(k=2, repair=False)\n",
    "\n",
    "ga.graphs(variable='prices').save(\"../outputs/p_stable_nr.png\", dpi=600)\n",
    "ga.graphs(variable='quantity').save(\"../outputs/q_stable_nr.png\", dpi=600)\n",
    "ga.graphs(variable='SD_full').save(\"../outputs/DS_stable_nr.png\", dpi=600)"
   ],
   "metadata": {
    "collapsed": false,
    "ExecuteTime": {
     "end_time": "2023-06-08T13:32:47.331490800Z",
     "start_time": "2023-06-08T13:32:30.450776500Z"
    }
   }
  },
  {
   "cell_type": "markdown",
   "source": [
    "Unstable case"
   ],
   "metadata": {
    "collapsed": false
   }
  },
  {
   "cell_type": "markdown",
   "source": [],
   "metadata": {
    "collapsed": false
   }
  },
  {
   "cell_type": "code",
   "execution_count": 26,
   "outputs": [
    {
     "name": "stdout",
     "output_type": "stream",
     "text": [
      "|████████████████████████████████████████| 100/100 [100%] in 12.3s (8.19/s)     \n"
     ]
    },
    {
     "name": "stderr",
     "output_type": "stream",
     "text": [
      "C:\\Users\\iodio\\AppData\\Roaming\\Python\\Python310\\site-packages\\plotnine\\ggplot.py:587: PlotnineWarning: Saving 6.4 x 4.8 in image.\n",
      "C:\\Users\\iodio\\AppData\\Roaming\\Python\\Python310\\site-packages\\plotnine\\ggplot.py:588: PlotnineWarning: Filename: ../outputs/p_unstable.png\n",
      "C:\\Users\\iodio\\AppData\\Roaming\\Python\\Python310\\site-packages\\plotnine\\ggplot.py:587: PlotnineWarning: Saving 6.4 x 4.8 in image.\n",
      "C:\\Users\\iodio\\AppData\\Roaming\\Python\\Python310\\site-packages\\plotnine\\ggplot.py:588: PlotnineWarning: Filename: ../outputs/q_unstable.png\n",
      "C:\\Users\\iodio\\AppData\\Roaming\\Python\\Python310\\site-packages\\plotnine\\ggplot.py:587: PlotnineWarning: Saving 6.4 x 4.8 in image.\n",
      "C:\\Users\\iodio\\AppData\\Roaming\\Python\\Python310\\site-packages\\plotnine\\ggplot.py:588: PlotnineWarning: Filename: ../outputs/DS_unstable.png\n"
     ]
    }
   ],
   "source": [
    "#demand parameters\n",
    "A=2.296\n",
    "B=0.0168\n",
    "#cost function parameters\n",
    "x=0\n",
    "y=0.016\n",
    "\n",
    "ga = cobwebGA(n_individuals=n_individuals, n_generations=n_generations, n_bits=n_bits, q_bar=q_bar, cr=c_r, mr=m_r, A=A ,B=B , x=x , y=y)\n",
    "outputs_df, all_outputs_df = ga.run(k=2, repair=True)\n",
    "\n",
    "ga.graphs(variable='prices').save(\"../outputs/p_unstable.png\", dpi=600)\n",
    "ga.graphs(variable='quantity').save(\"../outputs/q_unstable.png\", dpi=600)\n",
    "ga.graphs(variable='SD_full').save(\"../outputs/DS_unstable.png\", dpi=600)"
   ],
   "metadata": {
    "collapsed": false,
    "ExecuteTime": {
     "end_time": "2023-06-08T13:33:05.508681700Z",
     "start_time": "2023-06-08T13:32:47.347319500Z"
    }
   }
  }
 ],
 "metadata": {
  "kernelspec": {
   "display_name": "Python 3 (ipykernel)",
   "language": "python",
   "name": "python3"
  },
  "language_info": {
   "codemirror_mode": {
    "name": "ipython",
    "version": 2
   },
   "file_extension": ".py",
   "mimetype": "text/x-python",
   "name": "python",
   "nbconvert_exporter": "python",
   "pygments_lexer": "ipython2",
   "version": "2.7.6"
  }
 },
 "nbformat": 4,
 "nbformat_minor": 1
}
